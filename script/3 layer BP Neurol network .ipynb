{
 "cells": [
  {
   "cell_type": "code",
   "execution_count": 1,
   "metadata": {},
   "outputs": [],
   "source": [
    "import numpy\n",
    "import scipy.special\n",
    "import matplotlib.pyplot as plt\n",
    "from tkinter import _flatten\n",
    "from itertools import chain\n",
    "import imageio\n",
    "import scipy.misc\n",
    "from scipy.ndimage import uniform_filter\n"
   ]
  },
  {
   "cell_type": "code",
   "execution_count": 2,
   "metadata": {},
   "outputs": [],
   "source": [
    "    #Block of initialization\n",
    "    class neuralNetwork :\n",
    "        def __init__(self, inputNodes, hiddenNodes, outputNodes, learningRate):\n",
    "    # set number of nodes in each input, hidden,output layer\n",
    "             self.iNodes=inputNodes\n",
    "             self.hNodes=hiddenNodes\n",
    "             self.oNodes=outputNodes\n",
    "     #learning rate\n",
    "             self.lr=learningRate\n",
    "    #set up weight matrix which meet the require of Gaussian distribution\n",
    "    #function(argument1,argument2,argument3)\n",
    "    #argument1 refers to means of Gaussian distribution \n",
    "    #argument2 refers to standar deviation\n",
    "    #argument3 refers to dim of matrix \n",
    "    #weight input to hidden layer\n",
    "             self.Wih=numpy.random.normal(0.0,pow(self.hNodes,-0.5),(self.hNodes,self.iNodes))\n",
    "    #weight hidden to output layer\n",
    "             self.b1=numpy.random.normal(0.0,pow(self.hNodes,-0.5),(self.hNodes,1))\n",
    "             self.b2=numpy.random.normal(0.0,pow(self.oNodes,-0.5),(self.oNodes,1))\n",
    "             self.Who=numpy.random.normal(0.0,pow(self.oNodes,-0.5),(self.oNodes,self.hNodes))\n",
    "\n",
    "    #Activation function sigmoid()\n",
    "             self.activation_function= lambda x: scipy.special.expit(x)\n",
    "    #Block of training\n",
    "        def train(self, input_list, targets_list):\n",
    "            #transform list to array\n",
    "            inputs=numpy.array(input_list,ndmin=2).T\n",
    "            targets=numpy.array(targets_list,ndmin=2).T\n",
    "            #input of layer hidden refers to O=Wih·I\n",
    "            hidden_inputs = numpy.dot(self.Wih,inputs)+self.b1\n",
    "            #via activation function \n",
    "            hidden_outputs=self.activation_function(hidden_inputs)\n",
    "            #input of layer output refers to O=Wh0·hiddenl_output\n",
    "            final_inputs = numpy.dot(self.Who,hidden_outputs)+self.b2\n",
    "            #via activation function \n",
    "            final_outputs=self.activation_function(final_inputs)\n",
    "            #define whole error\n",
    "            output_errors=targets-final_outputs\n",
    "            #divide whole error into different part and distribute it depending on weight\n",
    "            hidden_errors= numpy.dot(self.Who.T,output_errors)\n",
    "            #renew weight matrix layer hidden to output by caculating degradient\n",
    "            self.Who+=self.lr*numpy.dot(output_errors*final_outputs*(1.0-final_outputs),numpy.transpose(hidden_outputs))\n",
    "            self.b2+=self.lr*(output_errors*final_outputs*(1.0-final_outputs))\n",
    "           #renew weight matrix layer input to hidden by caculating degradient\n",
    "            self.b1+=self.lr*hidden_errors*hidden_outputs*(1.0-hidden_outputs)\n",
    "            self.Wih+=self.lr*numpy.dot(hidden_errors*hidden_outputs*(1.0-hidden_outputs),numpy.transpose(inputs))\n",
    "            #self.Who+=self.lr*numpy.dot(output_errors*final_outputs*(1.0-final_outputs)*(targets*final_outputs-targets*final_outputs*final_outputs-1.0+targets)/(1.0-final_outputs),numpy.transpose(hidden_outputs))\n",
    "            #self.Wih+=self.lr*numpy.dot(hidden_errors*hidden_outputs*(1.0-hidden_outputs)*(targets*hidden_outputs-targets*hidden_outputs*hidden_outputs-1.0+targets)/(1.0-hidden_outputs),numpy.transpose(inputs))\n",
    "            #(targets*final_outputs-targets*final_outputs*final_outputs-1.0+targets)/(1.0-final_outputs)*\n",
    "        \n",
    "    #Block of query() \n",
    "    #refers to this block accepts the input of NN and gives feedback \n",
    "        def query(self,input_list):\n",
    "    #ndmin refers to min dim=2\n",
    "    #T refers to transpose\n",
    "            inputs=numpy.array(input_list,ndmin=2).T\n",
    "    # Wih·I=X1\n",
    "            hidden_inputs=numpy.dot(self.Wih,inputs)+self.b1\n",
    "    #hidden_output=sigmoid(X1)=sigmoid(Wih·I)\n",
    "            hidden_outputs=self.activation_function(hidden_inputs)\n",
    "    #Who·O=X2\n",
    "            final_input=numpy.dot(self.Who,hidden_outputs)+self.b2\n",
    "    #final_output=sigmoid(X2)=sigmoid(Who·X2)\n",
    "            final_outputs=self.activation_function(final_input)\n",
    "            return (final_outputs)\n",
    "        def giveBackLoss(self, input_list, targets_list):\n",
    "            inputs=numpy.array(input_list,ndmin=2).T\n",
    "            targets=numpy.array(targets_list,ndmin=2).T\n",
    "            hidden_inputs = numpy.dot(self.Wih,inputs)+self.b1\n",
    "            hidden_outputs=self.activation_function(hidden_inputs)\n",
    "            final_inputs = numpy.dot(self.Who,hidden_outputs)+self.b2\n",
    "            final_outputs=self.activation_function(final_inputs)\n",
    "            output_errors=pow(targets-final_outputs,2)/2.0\n",
    "            print(sum(output_errors))"
   ]
  },
  {
   "cell_type": "code",
   "execution_count": 3,
   "metadata": {},
   "outputs": [],
   "source": [
    "#input data of nodes\n",
    "input_nodes=784\n",
    "hidden_nodes=500\n",
    "output_nodes=10\n",
    "# set learning rate \n",
    "learning_rate = 0.1\n",
    "#create instance of NN(neural network)\n",
    "# read the training dataset\n",
    "training_data_file = open('C:/Users/32665/Desktop/transform_training/new/new_training_data.csv','r')\n",
    "training_data_list=training_data_file.readlines()\n",
    "training_data_file.close()\n"
   ]
  },
  {
   "cell_type": "markdown",
   "metadata": {},
   "source": [
    "This block is excuted to train the model by using MNIST dataset"
   ]
  },
  {
   "cell_type": "code",
   "execution_count": 4,
   "metadata": {
    "scrolled": false
   },
   "outputs": [],
   "source": [
    "# initial the model\n",
    "n=neuralNetwork(input_nodes,hidden_nodes,output_nodes,learning_rate)\n",
    "# set epochs\n",
    "epochs=5\n",
    "flow=0\n",
    "for i in range(epochs):\n",
    "    for record in training_data_list:\n",
    "        all_values=record.split(',')\n",
    "        all_values=numpy.asfarray(all_values)\n",
    "        inputs=numpy.asfarray(all_values[1:])/255.0*0.99+0.01\n",
    "        #inputs=numpy.asfarray(all_values[1:])\n",
    "        #image=inputs.reshape(28,28)\n",
    "        #ret, binary = cv2.threshold(image,0,255,cv2.THRESH_BINARY)\n",
    "        #inputs=binary/255.0*0.99+0.01\n",
    "        inputs=inputs.reshape(784)\n",
    "        targets=numpy.zeros(output_nodes)+0.01\n",
    "        targets[int(all_values[0])]=0.99\n",
    "        n.train(inputs,targets)\n",
    "        flow+=1\n",
    "        if flow%5000==0:\n",
    "            n.giveBackLoss(inputs,targets)\n",
    "        #inputs_plusx_img = scipy.ndimage.interpolation.rotate(inputs.reshape(28,28), 10, cval=0.01, order=1, reshape=False)\n",
    "        #n.train(inputs_plusx_img.reshape(784), targets)\n",
    "        #inputs_minusx_img = scipy.ndimage.interpolation.rotate(inputs.reshape(28,28), -10, cval=0.01, order=1, reshape=False)\n",
    "        #n.train(inputs_minusx_img.reshape(784), targets)\n",
    "\n",
    "        #rotate sample set 10 degree\n",
    "        #scaled_input=inputs\n",
    "       # input_plus10_img=scipy.ndimage.interpolation.rotate(scaled_input.reshape(28,28),10,cval=0.01,reshape=False)\n",
    "        #input_plus10=input_minus10_img.reshape(784)\n",
    "       # input_minus10_img=scipy.ndimage.interpolation.rotate(scaled_input.reshape(28,28),-10,cval=0.01,reshape=False)  \n",
    "        #input_minus10=input_minus10_img.reshape(784)\n",
    "     \n",
    "        #n.train(input_minus10,targets)\n",
    "      #  n.train(input_plus10,targets)"
   ]
  },
  {
   "cell_type": "markdown",
   "metadata": {},
   "source": [
    "This block is excuted to train the model by using MNIST dataset but rotate the picture to improve the robustness"
   ]
  },
  {
   "cell_type": "code",
   "execution_count": 19,
   "metadata": {},
   "outputs": [
    {
     "name": "stdout",
     "output_type": "stream",
     "text": [
      "[0.00027003]\n",
      "[0.00055002]\n",
      "[0.00029293]\n",
      "[0.0006109]\n",
      "[0.00015106]\n",
      "[0.00203016]\n",
      "[0.00046656]\n",
      "[0.00039195]\n",
      "[0.00038519]\n",
      "[0.00012914]\n",
      "[0.00010773]\n",
      "[0.00023995]\n",
      "[0.00049428]\n",
      "[0.00061416]\n",
      "[0.00024016]\n",
      "[0.00094184]\n",
      "[0.00011954]\n",
      "[0.00197083]\n",
      "[0.00052913]\n",
      "[0.00111278]\n",
      "[0.00041045]\n",
      "[0.00034009]\n",
      "[0.00011855]\n",
      "[0.00015969]\n",
      "[0.00039694]\n",
      "[0.00026246]\n",
      "[0.00027826]\n",
      "[0.0011225]\n",
      "[0.00014863]\n",
      "[0.00146678]\n",
      "[0.00036588]\n",
      "[0.00156258]\n",
      "[0.00040201]\n",
      "[0.00012898]\n",
      "[0.0002128]\n",
      "[0.00011843]\n",
      "[0.00039945]\n",
      "[0.00018488]\n",
      "[0.00028525]\n",
      "[0.00123383]\n",
      "[0.00015453]\n",
      "[0.00136665]\n",
      "[0.00031522]\n",
      "[0.00066142]\n",
      "[0.00041389]\n",
      "[0.00011303]\n",
      "[0.00010666]\n",
      "[0.00014011]\n",
      "[0.0002935]\n",
      "[0.00018029]\n",
      "[0.00026197]\n",
      "[0.00101321]\n",
      "[0.0001356]\n",
      "[0.00065247]\n",
      "[0.00012812]\n",
      "[0.00070255]\n",
      "[0.00042518]\n",
      "[7.58453762e-05]\n",
      "[0.00012313]\n",
      "[0.00011565]\n"
     ]
    }
   ],
   "source": [
    "epochs=5\n",
    "flow=0\n",
    "for i in range(epochs):\n",
    "    for record in training_data_list:\n",
    "        all_values=record.split(',')\n",
    "        all_values=numpy.asfarray(all_values)\n",
    "        inputs=numpy.asfarray(all_values[1:])/255.0*0.99+0.01\n",
    "        #inputs=numpy.asfarray(all_values[1:])\n",
    "        #image=inputs.reshape(28,28)\n",
    "        #ret, binary = cv2.threshold(image,0,255,cv2.THRESH_BINARY)\n",
    "        #inputs=binary/255.0*0.99+0.01\n",
    "        inputs=inputs.reshape(784)\n",
    "        targets=numpy.zeros(output_nodes)+0.01\n",
    "        targets[int(all_values[0])]=0.99\n",
    "        scaled_input=inputs\n",
    "        input_plus10_img=scipy.ndimage.interpolation.rotate(scaled_input.reshape(28,28),10,cval=0.01,reshape=False)\n",
    "        input_plus10=input_plus10_img.reshape(784)\n",
    "        input_minus10_img=scipy.ndimage.interpolation.rotate(scaled_input.reshape(28,28),-10,cval=0.01,reshape=False)  \n",
    "        input_minus10=input_minus10_img.reshape(784)\n",
    "        n.train(inputs,targets)\n",
    "        n.train(input_minus10,targets)\n",
    "        n.train(input_plus10,targets)\n",
    "        flow+=1\n",
    "        if flow%5000==0:\n",
    "            n.giveBackLoss(inputs,targets)"
   ]
  },
  {
   "cell_type": "code",
   "execution_count": 19,
   "metadata": {},
   "outputs": [
    {
     "name": "stdout",
     "output_type": "stream",
     "text": [
      "[0.00027003]\n",
      "[0.00055002]\n",
      "[0.00029293]\n",
      "[0.0006109]\n",
      "[0.00015106]\n",
      "[0.00203016]\n",
      "[0.00046656]\n",
      "[0.00039195]\n",
      "[0.00038519]\n",
      "[0.00012914]\n",
      "[0.00010773]\n",
      "[0.00023995]\n",
      "[0.00049428]\n",
      "[0.00061416]\n",
      "[0.00024016]\n",
      "[0.00094184]\n",
      "[0.00011954]\n",
      "[0.00197083]\n",
      "[0.00052913]\n",
      "[0.00111278]\n",
      "[0.00041045]\n",
      "[0.00034009]\n",
      "[0.00011855]\n",
      "[0.00015969]\n",
      "[0.00039694]\n",
      "[0.00026246]\n",
      "[0.00027826]\n",
      "[0.0011225]\n",
      "[0.00014863]\n",
      "[0.00146678]\n",
      "[0.00036588]\n",
      "[0.00156258]\n",
      "[0.00040201]\n",
      "[0.00012898]\n",
      "[0.0002128]\n",
      "[0.00011843]\n",
      "[0.00039945]\n",
      "[0.00018488]\n",
      "[0.00028525]\n",
      "[0.00123383]\n",
      "[0.00015453]\n",
      "[0.00136665]\n",
      "[0.00031522]\n",
      "[0.00066142]\n",
      "[0.00041389]\n",
      "[0.00011303]\n",
      "[0.00010666]\n",
      "[0.00014011]\n",
      "[0.0002935]\n",
      "[0.00018029]\n",
      "[0.00026197]\n",
      "[0.00101321]\n",
      "[0.0001356]\n",
      "[0.00065247]\n",
      "[0.00012812]\n",
      "[0.00070255]\n",
      "[0.00042518]\n",
      "[7.58453762e-05]\n",
      "[0.00012313]\n",
      "[0.00011565]\n"
     ]
    }
   ],
   "source": [
    "epochs=5\n",
    "flow=0\n",
    "for i in range(epochs):\n",
    "    for record in training_data_list:\n",
    "        all_values=record.split(',')\n",
    "        all_values=numpy.asfarray(all_values)\n",
    "        inputs=numpy.asfarray(all_values[1:])/255.0*0.99+0.01\n",
    "        #inputs=numpy.asfarray(all_values[1:])\n",
    "        #image=inputs.reshape(28,28)\n",
    "        #ret, binary = cv2.threshold(image,0,255,cv2.THRESH_BINARY)\n",
    "        #inputs=binary/255.0*0.99+0.01\n",
    "        inputs=inputs.reshape(784)\n",
    "        targets=numpy.zeros(output_nodes)+0.01\n",
    "        targets[int(all_values[0])]=0.99\n",
    "        scaled_input=inputs\n",
    "        input_plus10_img=scipy.ndimage.interpolation.rotate(scaled_input.reshape(28,28),10,cval=0.01,reshape=False)\n",
    "        input_plus10=input_plus10_img.reshape(784)\n",
    "        input_minus10_img=scipy.ndimage.interpolation.rotate(scaled_input.reshape(28,28),-10,cval=0.01,reshape=False)  \n",
    "        input_minus10=input_minus10_img.reshape(784)\n",
    "        n.train(inputs,targets)\n",
    "        n.train(input_minus10,targets)\n",
    "        n.train(input_plus10,targets)\n",
    "        flow+=1\n",
    "        if flow%5000==0:\n",
    "            n.giveBackLoss(inputs,targets)"
   ]
  },
  {
   "cell_type": "code",
   "execution_count": 5,
   "metadata": {},
   "outputs": [
    {
     "data": {
      "text/plain": [
       "\"\\nfor record in test_data_list:\\n    test_values=record.split(',')\\n    #transpose string to float\\n    #test_values=numpy.asfarray(test_values[1:]).reshape(784)/255.0*0.99+0.01\\n        test_values=numpy.asfarray(test_values[1:])\\n        image=test_values.reshape(28,28)\\n        ret, binary = cv2.threshold(image,127,255,cv2.THRESH_BINARY)\\n        inputs=binary/255.0*0.99+0.01\\n        inputs=inputs.reshape(784)\\n\""
      ]
     },
     "execution_count": 5,
     "metadata": {},
     "output_type": "execute_result"
    }
   ],
   "source": [
    "# read the test data\n",
    "test_data_file=open('C:/Users/32665/Desktop/transform_training/new/test/new_test_data.csv','r')\n",
    "test_data_list=test_data_file.readlines()\n",
    "test_data_file.close()\n"
   ]
  },
  {
   "cell_type": "code",
   "execution_count": 10,
   "metadata": {},
   "outputs": [],
   "source": [
    "#set up a list named scoreCard to caculate time successfully recognized \n",
    "scoreCard=[]\n",
    "pic_false=[]\n",
    "label_false=[]\n",
    "false_number=[0,0,0,0,0,0,0,0,0,0]\n",
    "for record in test_data_list:\n",
    "    all_values=record.split(',')\n",
    "    #get lable of number\n",
    "    correct_label=int(all_values[0])\n",
    "    #print(correct_label,\"correct label\")\n",
    "    inputs=(numpy.asfarray(all_values[1:])/255.0*0.99)+0.01\n",
    "    outputs=n.query(inputs)\n",
    "    #send back to max number's index \n",
    "    label=numpy.argmax(outputs)\n",
    "    #print(label,'networks answer')\n",
    "    if(label==correct_label):\n",
    "        scoreCard.append(1)\n",
    "    else:\n",
    "        scoreCard.append(0)\n",
    "        false_number[correct_label]+=1\n",
    "        pic_false.append(inputs)\n",
    "        label_false.append(correct_label)\n",
    "        #cv2.imshow('',binary)\n",
    "        #cv2.waitKey(0)\n",
    "        pass\n",
    "    pass\n",
    "    "
   ]
  },
  {
   "cell_type": "markdown",
   "metadata": {},
   "source": [
    "print the false number"
   ]
  },
  {
   "cell_type": "code",
   "execution_count": 7,
   "metadata": {},
   "outputs": [
    {
     "name": "stdout",
     "output_type": "stream",
     "text": [
      "0:0\n",
      "0:0\n",
      "2:3\n",
      "3:9\n",
      "4:2\n",
      "5:7\n",
      "6:6\n",
      "7:1\n",
      "7:1\n",
      "3:9\n"
     ]
    }
   ],
   "source": [
    "for i in false_number:\n",
    "    print(str(false_number.index(i))+\":\"+str(i))\n",
    "    "
   ]
  },
  {
   "cell_type": "code",
   "execution_count": 24,
   "metadata": {},
   "outputs": [],
   "source": [
    "#save finished weight matrix\n",
    "numpy.savetxt('C:/Users/32665/Desktop/Who_new_sigb_rotate__97.8%.csv', n.Who, fmt='%f', delimiter = ',')\n",
    "numpy.savetxt('C:/Users/32665/Desktop/Wih_new_sigb_rotate_97.8%.csv', n.Wih, fmt='%f', delimiter = ',')\n"
   ]
  },
  {
   "cell_type": "code",
   "execution_count": 7,
   "metadata": {},
   "outputs": [
    {
     "ename": "NameError",
     "evalue": "name 'n' is not defined",
     "output_type": "error",
     "traceback": [
      "\u001b[1;31m---------------------------------------------------------------------------\u001b[0m",
      "\u001b[1;31mNameError\u001b[0m                                 Traceback (most recent call last)",
      "\u001b[1;32m<ipython-input-7-4bf5e0a15a01>\u001b[0m in \u001b[0;36m<module>\u001b[1;34m\u001b[0m\n\u001b[1;32m----> 1\u001b[1;33m \u001b[0mnumpy\u001b[0m\u001b[1;33m.\u001b[0m\u001b[0msavetxt\u001b[0m\u001b[1;33m(\u001b[0m\u001b[1;34m'C:/Users/32665/Desktop/b1_new_sigb_rotate__97.7%.csv'\u001b[0m\u001b[1;33m,\u001b[0m \u001b[0mn\u001b[0m\u001b[1;33m.\u001b[0m\u001b[0mb1\u001b[0m\u001b[1;33m,\u001b[0m \u001b[0mfmt\u001b[0m\u001b[1;33m=\u001b[0m\u001b[1;34m'%f'\u001b[0m\u001b[1;33m,\u001b[0m \u001b[0mdelimiter\u001b[0m \u001b[1;33m=\u001b[0m \u001b[1;34m','\u001b[0m\u001b[1;33m)\u001b[0m\u001b[1;33m\u001b[0m\u001b[1;33m\u001b[0m\u001b[0m\n\u001b[0m\u001b[0;32m      2\u001b[0m \u001b[0mnumpy\u001b[0m\u001b[1;33m.\u001b[0m\u001b[0msavetxt\u001b[0m\u001b[1;33m(\u001b[0m\u001b[1;34m'C:/Users/32665/Desktop/b2_new_sigb_rotate_97.7%.csv'\u001b[0m\u001b[1;33m,\u001b[0m \u001b[0mn\u001b[0m\u001b[1;33m.\u001b[0m\u001b[0mb2\u001b[0m\u001b[1;33m,\u001b[0m \u001b[0mfmt\u001b[0m\u001b[1;33m=\u001b[0m\u001b[1;34m'%f'\u001b[0m\u001b[1;33m,\u001b[0m \u001b[0mdelimiter\u001b[0m \u001b[1;33m=\u001b[0m \u001b[1;34m','\u001b[0m\u001b[1;33m)\u001b[0m\u001b[1;33m\u001b[0m\u001b[1;33m\u001b[0m\u001b[0m\n",
      "\u001b[1;31mNameError\u001b[0m: name 'n' is not defined"
     ]
    }
   ],
   "source": [
    "numpy.savetxt('C:/Users/32665/Desktop/b1_new_sigb_rotate__97.7%.csv', n.b1, fmt='%f', delimiter = ',')\n",
    "numpy.savetxt('C:/Users/32665/Desktop/b2_new_sigb_rotate_97.7%.csv', n.b2, fmt='%f', delimiter = ',')"
   ]
  },
  {
   "cell_type": "markdown",
   "metadata": {},
   "source": [
    "This block is used to visulize the false sample"
   ]
  },
  {
   "cell_type": "code",
   "execution_count": 17,
   "metadata": {},
   "outputs": [],
   "source": [
    "import matplotlib.pyplot as plt\n",
    "def print_number_pic(label,matrix):\n",
    "    counter=0\n",
    "    fig, ax = plt.subplots(nrows=2, ncols=19, sharex='all', sharey='all')\n",
    "    ax = ax.flatten()\n",
    "    for i in range(len(label)):\n",
    "        img= matrix[i].reshape(28, 28)\n",
    "        #ax[i].set_title(label[i])\n",
    "        ax[i].imshow(img, cmap='Greys', interpolation='nearest')\n",
    "        counter+=1\n",
    "        if counter%10:\n",
    "            print(counter)\n",
    "    ax[0].set_xticks([])\n",
    "    ax[0].set_yticks([])\n",
    "    plt. figure(figsize=(5,8))\n",
    "    plt.tight_layout()\n",
    "    plt.show()"
   ]
  },
  {
   "cell_type": "code",
   "execution_count": 18,
   "metadata": {},
   "outputs": [
    {
     "name": "stdout",
     "output_type": "stream",
     "text": [
      "1\n",
      "2\n",
      "3\n",
      "4\n",
      "5\n",
      "6\n",
      "7\n",
      "8\n",
      "9\n",
      "11\n",
      "12\n",
      "13\n",
      "14\n",
      "15\n",
      "16\n",
      "17\n",
      "18\n",
      "19\n",
      "21\n",
      "22\n",
      "23\n",
      "24\n",
      "25\n",
      "26\n",
      "27\n",
      "28\n",
      "29\n",
      "31\n",
      "32\n",
      "33\n",
      "34\n",
      "35\n",
      "36\n",
      "37\n",
      "38\n"
     ]
    },
    {
     "data": {
      "image/png": "[encoded data removed]",
      "text/plain": [
       "<Figure size 432x288 with 38 Axes>"
      ]
     },
     "metadata": {},
     "output_type": "display_data"
    },
    {
     "data": {
      "text/plain": [
       "<Figure size 360x576 with 0 Axes>"
      ]
     },
     "metadata": {},
     "output_type": "display_data"
    }
   ],
   "source": [
    "print_number_pic(label_false,pic_false)"
   ]
  },
  {
   "cell_type": "code",
   "execution_count": null,
   "metadata": {},
   "outputs": [],
   "source": []
  }
 ],
 "metadata": {
  "kernelspec": {
   "display_name": "Python 3",
   "language": "python",
   "name": "python3"
  },
  "language_info": {
   "codemirror_mode": {
    "name": "ipython",
    "version": 3
   },
   "file_extension": ".py",
   "mimetype": "text/x-python",
   "name": "python",
   "nbconvert_exporter": "python",
   "pygments_lexer": "ipython3",
   "version": "3.9.0"
  },
  "toc": {
   "base_numbering": 1,
   "nav_menu": {},
   "number_sections": true,
   "sideBar": true,
   "skip_h1_title": false,
   "title_cell": "Table of Contents",
   "title_sidebar": "Contents",
   "toc_cell": false,
   "toc_position": {},
   "toc_section_display": true,
   "toc_window_display": false
  }
 },
 "nbformat": 4,
 "nbformat_minor": 4
}
