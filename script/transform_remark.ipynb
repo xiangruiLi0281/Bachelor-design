{
 "cells": [
  {
   "cell_type": "code",
   "execution_count": 1,
   "metadata": {},
   "outputs": [],
   "source": [
    "# import the necessary packages\n",
    "import numpy as np\n",
    "import argparse\n",
    "import imutils\n",
    "import cv2\n",
    "import scipy.special\n",
    "def sort_contours(cnts, method=\"left-to-right\"):\n",
    "    # initialize the reverse flag and sort index\n",
    "    reverse = False\n",
    "    i = 0\n",
    "    # handle if we need to sort in reverse\n",
    "    if method == \"right-to-left\" or method == \"bottom-to-top\":\n",
    "        reverse = True\n",
    "    # handle if we are sorting against the y-coordinate rather than\n",
    "    # the x-coordinate of the bounding box\n",
    "    if method == \"top-to-bottom\" or method == \"bottom-to-top\":\n",
    "        i = 1\n",
    "    # construct the list of bounding boxes and sort them from top to\n",
    "    # bottom\n",
    "    boundingBoxes = [cv2.boundingRect(c) for c in cnts]\n",
    "    (cnts, boundingBoxes) = zip(*sorted(zip(cnts, boundingBoxes),\n",
    "        key=lambda b:b[1][i], reverse=reverse))\n",
    "    # return the list of sorted contours and bounding boxes\n",
    "    return (cnts, boundingBoxes)"
   ]
  },
  {
   "cell_type": "code",
   "execution_count": 2,
   "metadata": {},
   "outputs": [],
   "source": [
    "import cv2\n",
    "import numpy as np\n",
    "import numpy\n",
    "import cv2 as cv\n",
    "import pickle\n",
    "score=cv2.imread('C:/Users/32665/Desktop/test2.jpg',0)\n",
    "#score=cv2.imread('C:/Users/32665/Desktop/test2.jpg',0)\n",
    "image_clone=score.copy()\n",
    "gray=cv2.cvtColor(image_clone,cv2.COLOR_BAYER_BG2GRAY)\n",
    "#image=color_seperate(image_clone)\n",
    "thresh, binary = cv2.threshold(gray, 127, 255, cv2.THRESH_BINARY_INV)\n",
    "binary=cv2.dilate(binary,np.ones((2,2),np.uint8),iterations =1)\n",
    "rows,cols=binary.shape\n",
    "scale = 40\n",
    "#horizontal line recognize\n",
    "kernel  = cv2.getStructuringElement(cv2.MORPH_RECT,(cols//scale,1))\n",
    "eroded = cv2.erode(binary,kernel,iterations = 1)\n",
    "#cv2.imshow(\"Eroded Image\",eroded)\n",
    "dilatedcol = cv2.dilate(eroded,kernel,iterations = 1)\n",
    "\n",
    " \n",
    "#vertical line recognize\n",
    "scale = 20\n",
    "kernel = cv2.getStructuringElement(cv2.MORPH_RECT,(1,rows//scale))\n",
    "eroded = cv2.erode(binary,kernel,iterations = 1)\n",
    "dilatedrow = cv2.dilate(eroded,kernel,iterations = 1)\n",
    "\n",
    " \n",
    "#intersection \n",
    "bitwiseAnd = cv2.bitwise_and(dilatedcol,dilatedrow)\n",
    "\n",
    "\n",
    "bitwiseAnd_clone=bitwiseAnd.copy()\n",
    "score_clone=score.copy()\n",
    "#cv2.imshow('',score_clone)\n",
    "#cv2.waitKey(0)"
   ]
  },
  {
   "cell_type": "code",
   "execution_count": 3,
   "metadata": {},
   "outputs": [],
   "source": [
    "# Using HSV to retrieve red handwritting number\n",
    "def color_seperate(image):\n",
    "    img_hsv = cv.cvtColor(image,cv.COLOR_BGR2HSV)\n",
    "    rows, cols, channels = image.shape\n",
    "\n",
    "    lower_red = np.array([0, 43, 46])\n",
    "    upper_red = np.array([10, 255, 255])\n",
    "    mask0 = cv.inRange(img_hsv,lower_red,upper_red)\n",
    "\n",
    "    lower_red = np.array([156, 43, 46])\n",
    "    upper_red = np.array([180, 255, 255])\n",
    "    mask1 = cv.inRange(img_hsv,lower_red,upper_red)\n",
    "    # connect two area\n",
    "    mask = mask0 + mask1\n",
    "\n",
    "    return(mask)"
   ]
  },
  {
   "cell_type": "code",
   "execution_count": 4,
   "metadata": {},
   "outputs": [],
   "source": [
    "def findCentroid(ROI):\n",
    "    M=cv2.moments(ROI)\n",
    "    cX = int(M[\"m10\"] / M[\"m00\"])\n",
    "    cY = int(M[\"m01\"] / M[\"m00\"])\n",
    "    return(cX,cY)"
   ]
  },
  {
   "cell_type": "code",
   "execution_count": 5,
   "metadata": {},
   "outputs": [],
   "source": [
    "# transfer the picture to MNIST formate\n",
    "def Transe_MNist(ROI,h,w):\n",
    "    img=ROI \n",
    "    ROI_cX,ROI_cY=findCentroid(img)\n",
    "    if (h>3*w)&(ROI_cY<0.6*h):\n",
    "        w_padding=(h-w)//3\n",
    "        top_size,bottom_size,left_size,right_size=(0,0,w_padding,w_padding)\n",
    "        wrap_ROI=cv2.copyMakeBorder(img, top_size, bottom_size, left_size, right_size, cv2.BORDER_CONSTANT, value=0)\n",
    "    else:\n",
    "        wrap_ROI=img\n",
    "\n",
    "    ROI_20= cv2.resize(wrap_ROI,(20,20))\n",
    "    cX,cY=findCentroid(ROI_20)\n",
    "    affine_arr = np.float32([[1,0,14-cX],[0,1,14-cY]])\n",
    "    res = cv2.warpAffine(ROI_20,affine_arr,(28,28))\n",
    "    return(res)\n",
    "\n"
   ]
  },
  {
   "cell_type": "code",
   "execution_count": 6,
   "metadata": {},
   "outputs": [],
   "source": [
    "class neuralNetwork :\n",
    "    def __init__(self, inputNodes, hiddenNodes, outputNodes, learningRate,Wih_finished,Who_finished,b1_finished,b2_finished):\n",
    "# set number of nodes in each input, hidden,output layer\n",
    "         self.iNodes=inputNodes\n",
    "         self.hNodes=hiddenNodes\n",
    "         self.oNodes=outputNodes\n",
    " #learning rate\n",
    "         self.lr=learningRate\n",
    "#set up weight matrix which meet the require of Gaussian distribution\n",
    "#function(argument1,argument2,argument3)\n",
    "#argument1 refers to means of Gaussian distribution \n",
    "#argument2 refers to standar deviation\n",
    "#argument3 refers to dim of matrix \n",
    "#weight input to hidden layer\n",
    "         self.Wih=Wih_finished\n",
    "#weight hidden to output layer\n",
    "         self.Who=Who_finished\n",
    "         self.b1=b1_finished.reshape(500,1)\n",
    "         self.b2=b2_finished.reshape(10,1)\n",
    "#Activation function sigmoid()\n",
    "         self.activation_function= lambda x: scipy.special.expit(x)     \n",
    "#Block of query() \n",
    "#refers to this block accepts the input of NN and gives feedback \n",
    "    def query(self,input_list):\n",
    "    #ndmin refers to min dim=2\n",
    "    #T refers to transpose\n",
    "            inputs=numpy.array(input_list,ndmin=2).T\n",
    "    # Wih·I=X1 \n",
    "            hidden_inputs=numpy.dot(self.Wih,inputs)+self.b1\n",
    "    #hidden_output=sigmoid(X1)=sigmoid(Wih·I)\n",
    "            hidden_outputs=self.activation_function(hidden_inputs)\n",
    "    #Who·O=X2\n",
    "            final_input=numpy.dot(self.Who,hidden_outputs)+self.b2\n",
    "    #final_output=sigmoid(X2)=sigmoid(Who·X2)\n",
    "            final_outputs=self.activation_function(final_input)\n",
    "            return (hidden_outputs)"
   ]
  },
  {
   "cell_type": "code",
   "execution_count": 7,
   "metadata": {},
   "outputs": [],
   "source": [
    "Who_finished = numpy.loadtxt('C:/Users/32665/Desktop/train_model/97.7sigrotate+b500hid/Who_new_sigb_rotate_97.7%.csv',delimiter=',')\n",
    "Wih_finished=numpy.loadtxt('C:/Users/32665/Desktop/train_model/97.7sigrotate+b500hid/Wih_new_sigb_rotate_97.7%.csv',delimiter=',')\n",
    "b1_finished=numpy.loadtxt('C:/Users/32665/Desktop/train_model/97.7sigrotate+b500hid/b1_new_sigb_rotate_97.7%.csv',delimiter=',')\n",
    "b2_finished=numpy.loadtxt('C:/Users/32665/Desktop/train_model/97.7sigrotate+b500hid/b2_new_sigb_rotate_97.7%.csv',delimiter=',')"
   ]
  },
  {
   "cell_type": "code",
   "execution_count": 8,
   "metadata": {},
   "outputs": [],
   "source": [
    "# load model\n",
    "file = open(\"C:/Users/32665/Desktop/transform_training/model/transform_learning_svm.pickle\", \"rb\")\n",
    "predictor=pickle.load(file)\n",
    "file.close()"
   ]
  },
  {
   "cell_type": "code",
   "execution_count": 9,
   "metadata": {},
   "outputs": [],
   "source": [
    "input_nodes=784\n",
    "hidden_nodes=500\n",
    "output_nodes=10\n",
    "# set learning rate \n",
    "learning_rate = 0.1\n",
    "n=neuralNetwork(input_nodes,hidden_nodes,output_nodes,learning_rate,Wih_finished,Who_finished,b1_finished,b2_finished)"
   ]
  },
  {
   "cell_type": "code",
   "execution_count": 10,
   "metadata": {},
   "outputs": [],
   "source": [
    "score_color=cv2.imread('C:/Users/32665/Desktop/test2.jpg',1)\n",
    "#score_color=cv2.imread('C:/Users/32665/Desktop/test2.jpg',1)\n",
    "score_color_clone=score_color.copy()"
   ]
  },
  {
   "cell_type": "code",
   "execution_count": 11,
   "metadata": {},
   "outputs": [],
   "source": [
    "# filter the noise\n",
    "rect_x=[]\n",
    "contours_rec, hierarchy_rec = cv2.findContours(dilatedrow, cv2.RETR_EXTERNAL, cv2.CHAIN_APPROX_NONE)\n",
    "for c in contours_rec:\n",
    "    x, y, w, h = cv2.boundingRect(c)\n",
    "    border = [(x,y+h), (x,y),(x+w,y),(x+w,y+h)]\n",
    "    border=numpy.int0(border)\n",
    "    if (h>100)&(w<30):\n",
    "        #print(h)\n",
    "        rect_x.append(x)\n",
    "    "
   ]
  },
  {
   "cell_type": "code",
   "execution_count": 12,
   "metadata": {},
   "outputs": [],
   "source": [
    "y=0\n",
    "h=130\n",
    "w=80\n",
    "ROI_rects=[]\n",
    "for i in rect_x:\n",
    "    x=i\n",
    "    ROI_rect=score_color_clone[y:y+h,x:x+w]\n",
    "    ROI_rects.append(ROI_rect)\n"
   ]
  },
  {
   "cell_type": "code",
   "execution_count": 13,
   "metadata": {},
   "outputs": [],
   "source": [
    "for ROI_rect in ROI_rects:\n",
    "    image=ROI_rect   \n",
    "    image_clone=image.copy()\n",
    "    ROI=color_seperate(image_clone)\n",
    "    contours_ROI, hierarchy = cv2.findContours(ROI, cv2.RETR_EXTERNAL, cv2.CHAIN_APPROX_NONE)\n",
    "    if len(contours_ROI) > 0:\n",
    "        contours, boundingBoxes = sort_contours(contours_ROI, method=\"top-to-bottom\")"
   ]
  },
  {
   "cell_type": "code",
   "execution_count": 14,
   "metadata": {},
   "outputs": [],
   "source": [
    "#Calculate the score "
   ]
  },
  {
   "cell_type": "code",
   "execution_count": 15,
   "metadata": {},
   "outputs": [
    {
     "name": "stdout",
     "output_type": "stream",
     "text": [
      "7\n",
      "3\n",
      "2\n",
      "3\n",
      "1\n",
      "0\n",
      "1\n",
      "2\n",
      "总分为：64\n"
     ]
    },
    {
     "data": {
      "text/plain": [
       "-1"
      ]
     },
     "execution_count": 15,
     "metadata": {},
     "output_type": "execute_result"
    }
   ],
   "source": [
    "score=0\n",
    "for ROI_rect in ROI_rects:\n",
    "    score_list=[]\n",
    "    image=ROI_rect   \n",
    "    image_clone=image.copy()\n",
    "    ROI_unerode=color_seperate(image_clone)\n",
    "    ROI=cv2.erode(ROI_unerode,np.ones((2,2),np.uint8),iterations=1)\n",
    "    contours_ROI, hierarchy = cv2.findContours(ROI, cv2.RETR_EXTERNAL, cv2.CHAIN_APPROX_NONE)\n",
    "    if len(contours_ROI) > 0:\n",
    "        contours_ROI,_=sort_contours(contours_ROI,\"left-to-right\")\n",
    "    # find boundary\n",
    "    MaxArea=ThreshArea=320\n",
    "    MinArea=2000\n",
    "    borders=[]\n",
    "    for c in contours_ROI:\n",
    "            # ger the region of interest\n",
    "        x, y, w, h = cv2.boundingRect(c)\n",
    "        if w*h > ThreshArea:\n",
    "            border = [(x, y+h), (x,y),(x+w,y),(x+w,y+h)]\n",
    "            border=numpy.int0(border)\n",
    "            cv2.drawContours(image_clone,[border],-1, (0, 0, 255), 1)\n",
    "            ROI_new=ROI[y:y+h,x:x+w]\n",
    "            inputs=Transe_MNist(ROI_new,h,w)\n",
    "            test_image=inputs.reshape(1,-1)/255*0.99+0.01\n",
    "            inputs_500=n.query(test_image)\n",
    "            number=int(predictor.predict(inputs_500.reshape(1,-1)))\n",
    "            score_list.append(number)\n",
    "            print(number)\n",
    "            result=cv2.putText(image_clone,str(number),(x,y+h), cv2.FONT_HERSHEY_COMPLEX, 1, (0, 255, 0), 1)\n",
    "    if len(score_list)==2:\n",
    "        unit_score=score_list[0]*10+score_list[1]\n",
    "    elif len(score_list)==1:\n",
    "        unit_score=score_list[0]\n",
    "    else:\n",
    "        unit_score=0\n",
    "    score+=unit_score\n",
    "print(\"Full score is：\"+str(score))\n",
    "cv2.imshow(\"full\",image_clone)\n",
    "\n",
    "cv2.waitKey(0)\n"
   ]
  },
  {
   "cell_type": "code",
   "execution_count": null,
   "metadata": {},
   "outputs": [],
   "source": []
  }
 ],
 "metadata": {
  "kernelspec": {
   "display_name": "Python 3",
   "language": "python",
   "name": "python3"
  },
  "language_info": {
   "codemirror_mode": {
    "name": "ipython",
    "version": 3
   },
   "file_extension": ".py",
   "mimetype": "text/x-python",
   "name": "python",
   "nbconvert_exporter": "python",
   "pygments_lexer": "ipython3",
   "version": "3.9.0"
  },
  "toc": {
   "base_numbering": 1,
   "nav_menu": {},
   "number_sections": true,
   "sideBar": true,
   "skip_h1_title": false,
   "title_cell": "Table of Contents",
   "title_sidebar": "Contents",
   "toc_cell": false,
   "toc_position": {},
   "toc_section_display": true,
   "toc_window_display": false
  }
 },
 "nbformat": 4,
 "nbformat_minor": 4
}
