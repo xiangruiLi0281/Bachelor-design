{
 "cells": [
  {
   "cell_type": "code",
   "execution_count": 33,
   "metadata": {},
   "outputs": [],
   "source": [
    "from sklearn import svm\n",
    "from sklearn.model_selection import train_test_split\n",
    "from sklearn import svm\n",
    "import numpy as np\n",
    "import pandas as pd\n",
    "import pickle\n",
    "from sklearn.datasets import fetch_openml\n",
    "import numpy\n",
    "import scipy.special\n",
    "import matplotlib.pyplot as plt\n",
    "from tkinter import _flatten\n",
    "from itertools import chain\n",
    "import imageio\n",
    "import scipy.misc\n",
    "from scipy.ndimage import uniform_filter\n",
    "import cv2"
   ]
  },
  {
   "cell_type": "code",
   "execution_count": 34,
   "metadata": {},
   "outputs": [],
   "source": [
    "class neuralNetwork :\n",
    "    def __init__(self, inputNodes, hiddenNodes, outputNodes, learningRate,Wih_finished,Who_finished,b1_finished,b2_finished):\n",
    "# set number of nodes in each input, hidden,output layer\n",
    "         self.iNodes=inputNodes\n",
    "         self.hNodes=hiddenNodes\n",
    "         self.oNodes=outputNodes\n",
    " #learning rate\n",
    "         self.lr=learningRate\n",
    "#set up weight matrix which meet the require of Gaussian distribution\n",
    "#function(argument1,argument2,argument3)\n",
    "#argument1 refers to means of Gaussian distribution \n",
    "#argument2 refers to standar deviation\n",
    "#argument3 refers to dim of matrix \n",
    "#weight input to hidden layer\n",
    "         self.Wih=Wih_finished\n",
    "#weight hidden to output layer\n",
    "         self.Who=Who_finished\n",
    "         self.b1=b1_finished.reshape(500,1)\n",
    "         self.b2=b2_finished.reshape(10,1)\n",
    "#Activation function sigmoid()\n",
    "         self.activation_function= lambda x: scipy.special.expit(x)     \n",
    "#Block of query() \n",
    "#refers to this block accepts the input of NN and gives feedback \n",
    "    def query(self,input_list):\n",
    "    #ndmin refers to min dim=2\n",
    "    #T refers to transpose\n",
    "            inputs=numpy.array(input_list,ndmin=2).T\n",
    "    # Wih·I=X1 \n",
    "            hidden_inputs=numpy.dot(self.Wih,inputs)+self.b1\n",
    "    #hidden_output=sigmoid(X1)=sigmoid(Wih·I)\n",
    "            hidden_outputs=self.activation_function(hidden_inputs)\n",
    "    #Who·O=X2\n",
    "            final_input=numpy.dot(self.Who,hidden_outputs)+self.b2\n",
    "    #final_output=sigmoid(X2)=sigmoid(Who·X2)\n",
    "            final_outputs=self.activation_function(final_input)\n",
    "            return (final_outputs)"
   ]
  },
  {
   "cell_type": "markdown",
   "metadata": {},
   "source": [
    "Loading the weight matrix data"
   ]
  },
  {
   "cell_type": "code",
   "execution_count": 35,
   "metadata": {},
   "outputs": [],
   "source": [
    "Who_finished = numpy.loadtxt('C:/Users/32665/Desktop/train_model/97.7sigrotate+b500hid/Who_new_sigb_rotate_97.7%.csv',delimiter=',')\n",
    "Wih_finished=numpy.loadtxt('C:/Users/32665/Desktop/train_model/97.7sigrotate+b500hid/Wih_new_sigb_rotate_97.7%.csv',delimiter=',')\n",
    "b1_finished=numpy.loadtxt('C:/Users/32665/Desktop/train_model/97.7sigrotate+b500hid/b1_new_sigb_rotate_97.7%.csv',delimiter=',')\n",
    "b2_finished=numpy.loadtxt('C:/Users/32665/Desktop/train_model/97.7sigrotate+b500hid/b2_new_sigb_rotate_97.7%.csv',delimiter=',')"
   ]
  },
  {
   "cell_type": "code",
   "execution_count": 36,
   "metadata": {},
   "outputs": [],
   "source": [
    "input_nodes=784\n",
    "hidden_nodes=500\n",
    "output_nodes=10\n",
    "# set learning rate \n",
    "learning_rate = 0.1\n",
    "n=neuralNetwork(input_nodes,hidden_nodes,output_nodes,learning_rate,Wih_finished,Who_finished,b1_finished,b2_finished)"
   ]
  },
  {
   "cell_type": "code",
   "execution_count": 37,
   "metadata": {},
   "outputs": [],
   "source": [
    "test_data_file=open('C:/Users/32665/Desktop/new_training_date.csv','r')\n",
    "test_data_list=test_data_file.readlines()\n",
    "test_data_file.close()"
   ]
  },
  {
   "cell_type": "code",
   "execution_count": 38,
   "metadata": {},
   "outputs": [],
   "source": [
    "scoreCard=[]\n",
    "false_number=[0,0,0,0,0,0,0,0,0,0]\n",
    "inputs_list=[]\n",
    "label_list=[]\n",
    "for record in test_data_list:\n",
    "    all_values=record.split(',')\n",
    "    #get lable of number\n",
    "    correct_label=int(float(all_values[0]))\n",
    "    label_list.append(correct_label)\n",
    "    #print(correct_label,\"correct label\")\n",
    "    inputs=(numpy.asfarray(all_values[1:])/255.0*0.99)+0.01\n",
    "    #inputs_list.append(inputs)\n",
    "    #inputs=(numpy.asfarray(all_values[1:]))\n",
    "    #image=inputs.reshape(28,28)\n",
    "    #ret, binary = cv2.threshold(image,127,255,cv2.THRESH_BINARY)\n",
    "    #inputs=binary/255.0*0.99+0.1\n",
    "    inputs=inputs.reshape(784)\n",
    "    outputs=n.query(inputs)\n",
    "    inputs_list.append(outputs)\n",
    "    #send back to max number's index "
   ]
  },
  {
   "cell_type": "code",
   "execution_count": 56,
   "metadata": {},
   "outputs": [],
   "source": [
    "#transfer learning\n",
    "x = inputs_list\n",
    "y = label_list\n",
    "y = numpy.reshape(y,(-1,1))\n",
    "# print(x)\n",
    "x_train, x_test, y_train, y_test = train_test_split(x, y, test_size=0.2,random_state=10)\n",
    "x_train=numpy.reshape(x_train,(519,10))\n",
    "predictor = svm.SVC(gamma='scale', C=1000, decision_function_shape='ovr', kernel='rbf')\n",
    "predictor.fit(x_train, y_train)"
   ]
  },
  {
   "cell_type": "code",
   "execution_count": 60,
   "metadata": {},
   "outputs": [
    {
     "data": {
      "text/plain": [
       "(130, 10, 1)"
      ]
     },
     "execution_count": 60,
     "metadata": {},
     "output_type": "execute_result"
    }
   ],
   "source": [
    "numpy.shape(x_test)"
   ]
  },
  {
   "cell_type": "code",
   "execution_count": 62,
   "metadata": {},
   "outputs": [
    {
     "data": {
      "text/plain": [
       "0.9384615384615385"
      ]
     },
     "execution_count": 62,
     "metadata": {},
     "output_type": "execute_result"
    }
   ],
   "source": [
    "predictor.score(numpy.reshape(x_test,(130,10)),y_test, sample_weight=None)"
   ]
  }
 ],
 "metadata": {
  "kernelspec": {
   "display_name": "Python 3",
   "language": "python",
   "name": "python3"
  },
  "language_info": {
   "codemirror_mode": {
    "name": "ipython",
    "version": 3
   },
   "file_extension": ".py",
   "mimetype": "text/x-python",
   "name": "python",
   "nbconvert_exporter": "python",
   "pygments_lexer": "ipython3",
   "version": "3.9.0"
  },
  "toc": {
   "base_numbering": 1,
   "nav_menu": {},
   "number_sections": true,
   "sideBar": true,
   "skip_h1_title": false,
   "title_cell": "Table of Contents",
   "title_sidebar": "Contents",
   "toc_cell": false,
   "toc_position": {},
   "toc_section_display": true,
   "toc_window_display": false
  }
 },
 "nbformat": 4,
 "nbformat_minor": 4
}
